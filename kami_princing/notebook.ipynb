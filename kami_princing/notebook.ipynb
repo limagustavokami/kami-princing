{
 "cells": [
  {
   "cell_type": "code",
   "execution_count": 16,
   "metadata": {},
   "outputs": [],
   "source": [
    "import http.client\n",
    "import json\n",
    "import pandas as pd\n",
    "\n",
    "\n",
    "\n",
    "class Anymarket:\n",
    "    def __init__(\n",
    "        self, credentials_path: str, base_url: str = \"/v2/products\"\n",
    "    ):\n",
    "        self.credentials_path = credentials_path\n",
    "\n",
    "    def connect(self, base_url) -> json:\n",
    "        try:\n",
    "            with open(self.credentials_path, 'r') as file:\n",
    "                credentials = json.load(file)\n",
    "                conn = http.client.HTTPConnection(\"sandbox-api.anymarket.com.br\")\n",
    "\n",
    "                headers = {\n",
    "                    'Content-Type': \"application/json\",\n",
    "                    'gumgaToken': credentials['anymarket_token'],\n",
    "                    }\n",
    "\n",
    "                conn.request(\"GET\", base_url, headers=headers)\n",
    "\n",
    "                return conn.getresponse()\n",
    "        \n",
    "        except Exception as e:\n",
    "            raise Exception(f'Failed to connect: {e}')\n",
    "\n",
    "    def get_products_quantity(self) -> int:\n",
    "        try:\n",
    "            conector = self.connect('/v2/products')\n",
    "            data = conector.read()\n",
    "            json_data = json.loads(data.decode(\"utf-8\"))\n",
    "\n",
    "            # Acesse o valor de 'totalElements' e guarde em uma variável\n",
    "            total_elements = json_data['page']['totalElements']\n",
    "\n",
    "            return total_elements\n",
    "        except Exception as e:\n",
    "            raise Exception(f'Failed to connect: {e}')\n",
    "\n",
    "    def get_all_products(self, quantity:int) -> pd.DataFrame:\n",
    "        try:\n",
    "            conector = self.connect(f'/v2/products?limit={quantity}')\n",
    "            data = conector.read()\n",
    "            json_data = json.loads(data.decode(\"utf-8\"))\n",
    "\n",
    "            products = json_data.get('content', [])\n",
    "            partner_ids = [sku.get('partnerId', '') for product in products for sku in product.get('skus', [])]\n",
    "\n",
    "            product_ids = [product['id'] for product in json_data.get('content', [])]\n",
    "            print(json_data)\n",
    "            return partner_ids, product_ids\n",
    "        except Exception as e:\n",
    "            raise Exception(f'Failed to connect: {e}')\n",
    "        \n",
    "    def change_data_patch(self, list: list):\n",
    "        try:\n",
    "            for id in list:\n",
    "\n",
    "\n",
    "                conn = http.client.HTTPConnection(\"sandbox-api.anymarket.com.br\")\n",
    "\n",
    "                payload = \"{\\n  \\\"calculatedPrice\\\": false,\\n  \\\"definitionPriceScope\\\": \\\"SKU_MARKETPLACE\\\"\\n}\"\n",
    "\n",
    "                headers = {\n",
    "                    'Content-Type': \"application/merge-patch+json\",\n",
    "                    'gumgaToken': \"32293584L39959642E1789758617689C169644661768900O891.I\"\n",
    "                }\n",
    "\n",
    "                conn.request(\"PATCH\", f\"/v2/products/{id}\", payload, headers)\n",
    "\n",
    "                res = conn.getresponse()\n",
    "                data = res.read()\n",
    "\n",
    "                print(data.decode(\"utf-8\"))\n",
    "\n",
    "        except Exception as e:\n",
    "            print(e)\n",
    "\n",
    "    def query_all_products(self, id_list: list):\n",
    "        try:\n",
    "            result_list = []\n",
    "\n",
    "            for product_id in id_list:\n",
    "                conn = http.client.HTTPConnection(\"sandbox-api.anymarket.com.br\")\n",
    "\n",
    "                headers = {\n",
    "                    'Content-Type': \"application/json\",\n",
    "                    'gumgaToken': \"32293584L39959642E1789758617689C169644661768900O891.I\"\n",
    "                }\n",
    "\n",
    "                conn.request(\"GET\", f\"/v2/skus/marketplaces?partnerID={product_id}\", headers=headers)\n",
    "\n",
    "                res = conn.getresponse()\n",
    "                data = res.read()\n",
    "                json_data = json.loads(data.decode(\"utf-8\"))\n",
    "                result_list.extend(json_data)\n",
    "\n",
    "            # Criar um DataFrame a partir de uma lista de dicionários\n",
    "            df = pd.json_normalize(result_list)\n",
    "            \n",
    "            print(df.columns)\n",
    "\n",
    "            # Renomear a coluna 'skuInMarketplace' para 'sku (*)'\n",
    "            df.rename(columns={'skuInMarketplace': 'sku (*)'}, inplace=True)\n",
    "\n",
    "            # Selecionar as colunas desejadas\n",
    "            \n",
    "            # Remover coluna vazia\n",
    "            df.dropna(subset=['fields.title'], inplace=True)\n",
    "\n",
    "            return df\n",
    "\n",
    "        except Exception as e:\n",
    "            print(e)\n",
    "\n",
    "    def change_price(self, marketplace: str, df: pd.DataFrame):\n",
    "        try:\n",
    "            \n",
    "            df_beleza_na_web = df.loc[df['marketPlace'] == marketplace]\n",
    "            print(df_beleza_na_web)\n",
    "            for index, row in df_beleza_na_web.iterrows():\n",
    "                conn = http.client.HTTPConnection(\"sandbox-api.anymarket.com.br\")\n",
    "\n",
    "                payload = \"[\\n  {\\n    \\\"id\\\": 3349911,\\n    \\\"price\\\": 50,\\n    \\\"discountPrice\\\": 50\\n  }\\n]\"\n",
    "\n",
    "\n",
    "                headers = {\n",
    "                    'Content-Type': \"application/json\",\n",
    "                    'gumgaToken': \"32293584L39959642E1789758617689C169644661768900O891.I\"\n",
    "                }\n",
    "\n",
    "                conn.request(\"PUT\", \"/v2/skus/marketplaces\", payload, headers)\n",
    "\n",
    "                res = conn.getresponse()\n",
    "                data = res.read()\n",
    "\n",
    "                print(data.decode(\"utf-8\"))\n",
    "\n",
    "        except Exception as e:\n",
    "            print(e)\n",
    "    "
   ]
  },
  {
   "cell_type": "code",
   "execution_count": 34,
   "metadata": {},
   "outputs": [],
   "source": [
    "am = Anymarket('../credentials/k_service_account_credentials.json')"
   ]
  },
  {
   "cell_type": "code",
   "execution_count": 35,
   "metadata": {},
   "outputs": [],
   "source": [
    "quantity = am.get_products_quantity()"
   ]
  },
  {
   "cell_type": "code",
   "execution_count": 36,
   "metadata": {},
   "outputs": [
    {
     "name": "stdout",
     "output_type": "stream",
     "text": [
      "{'links': [{'rel': 'next', 'href': 'http://api.anymarket.com.br/v2/products?limit=13&offset=13'}], 'content': [{'id': 3349911, 'title': 'Moroccanoil Tratamento Óleo Original 25ml', 'category': {'id': 893146, 'name': 'Tratamento de Cabelo', 'path': 'Beleza e Cuidado com Cabelo/Tratamento de Cabelo'}, 'origin': {'id': 0, 'description': 'NATIONAL'}, 'model': 'Original', 'gender': 'UNISSEX', 'warrantyTime': 0, 'warrantyText': '0', 'priceFactor': 5, 'calculatedPrice': False, 'definitionPriceScope': 'SKU_MARKETPLACE', 'hasVariations': False, 'isProductActive': True, 'skus': [{'id': 2223132, 'title': 'Moroccanoil Tratamento Óleo Original 25ml', 'partnerId': 'MO0001', 'ean': '7290011521127', 'price': 49.9, 'amount': 163, 'additionalTime': 0, 'stockLocalId': 10244}], 'allowAutomaticSkuMarketplaceCreation': True}, {'id': 3349993, 'title': 'Amend Leave In Millenar Óleos Egípcios Balm Selante 180g', 'description': '<p>teste</p>', 'category': {'id': 893146, 'name': 'Tratamento de Cabelo', 'path': 'Beleza e Cuidado com Cabelo/Tratamento de Cabelo'}, 'origin': {'id': 0, 'description': 'NATIONAL'}, 'warrantyTime': 0, 'warrantyText': '0', 'height': 6, 'width': 11, 'weight': 0.19, 'length': 18, 'priceFactor': 1, 'calculatedPrice': False, 'definitionPriceScope': 'SKU_MARKETPLACE', 'hasVariations': False, 'isProductActive': True, 'images': [{'id': 2756787, 'index': 1, 'main': True, 'url': 'https://s3.sa-east-1.amazonaws.com/images.sox.anymarket.com.br/39959642./1697820284495/original.png', 'thumbnailUrl': 'http://s3-sa-east-1.amazonaws.com/images.anymarket.com.br/39959642./12FC615F8F08B1FDBDCA739FDCA311D5/thumbnail.jpg', 'lowResolutionUrl': 'http://s3-sa-east-1.amazonaws.com/images.anymarket.com.br/39959642./12FC615F8F08B1FDBDCA739FDCA311D5/low_resolution.jpg', 'standardUrl': 'http://s3-sa-east-1.amazonaws.com/images.anymarket.com.br/39959642./12FC615F8F08B1FDBDCA739FDCA311D5/standard_resolution.jpg', 'originalImage': 'http://s3-sa-east-1.amazonaws.com/images.anymarket.com.br/39959642./12FC615F8F08B1FDBDCA739FDCA311D5/original_image.jpg', 'status': 'PROCESSED', 'standardWidth': 1000, 'standardHeight': 1000, 'originalWidth': 1000, 'originalHeight': 1000}], 'skus': [{'id': 2223173, 'title': 'Amend Leave In Millenar Óleos Egípcios Balm Selante 180g', 'partnerId': 'AM0011', 'ean': '7896852618950', 'price': 20.56, 'sellPrice': 20.56, 'amount': 25, 'additionalTime': 0, 'stockLocalId': 10244}], 'allowAutomaticSkuMarketplaceCreation': True}, {'id': 3350003, 'title': 'Amend Leave In Millenar Óleos Indianos Balm Selante 180g', 'description': '<p>teste</p>', 'category': {'id': 893146, 'name': 'Tratamento de Cabelo', 'path': 'Beleza e Cuidado com Cabelo/Tratamento de Cabelo'}, 'origin': {'id': 0, 'description': 'NATIONAL'}, 'model': 'Óleos indianos', 'gender': 'UNISSEX', 'warrantyTime': 0, 'warrantyText': '0', 'height': 6, 'width': 11, 'weight': 0.19, 'length': 18, 'priceFactor': 1, 'calculatedPrice': False, 'definitionPriceScope': 'SKU_MARKETPLACE', 'hasVariations': False, 'isProductActive': True, 'images': [{'id': 2756788, 'index': 1, 'main': True, 'url': 'https://s3.sa-east-1.amazonaws.com/images.sox.anymarket.com.br/39959642./1697821367808/original.png', 'thumbnailUrl': 'http://s3-sa-east-1.amazonaws.com/images.anymarket.com.br/39959642./7853AA822D58F288F652EDD7F49686AD/thumbnail.jpg', 'lowResolutionUrl': 'http://s3-sa-east-1.amazonaws.com/images.anymarket.com.br/39959642./7853AA822D58F288F652EDD7F49686AD/low_resolution.jpg', 'standardUrl': 'http://s3-sa-east-1.amazonaws.com/images.anymarket.com.br/39959642./7853AA822D58F288F652EDD7F49686AD/standard_resolution.jpg', 'originalImage': 'http://s3-sa-east-1.amazonaws.com/images.anymarket.com.br/39959642./7853AA822D58F288F652EDD7F49686AD/original_image.jpg', 'status': 'PROCESSED', 'standardWidth': 1000, 'standardHeight': 1000, 'originalWidth': 1000, 'originalHeight': 1000}], 'skus': [{'id': 2223183, 'title': 'Amend Leave In Millenar Óleos Indianos Balm Selante 180g', 'partnerId': 'AM0049', 'ean': '7896852618998', 'price': 20.56, 'sellPrice': 20.56, 'amount': 37, 'additionalTime': 0, 'stockLocalId': 10244}], 'allowAutomaticSkuMarketplaceCreation': True}, {'id': 3350017, 'title': 'Amend Máscara Cachos 250g', 'description': '<p>teste</p>', 'category': {'id': 893146, 'name': 'Tratamento de Cabelo', 'path': 'Beleza e Cuidado com Cabelo/Tratamento de Cabelo'}, 'origin': {'id': 0, 'description': 'NATIONAL'}, 'model': 'Cachos', 'warrantyTime': 1, 'warrantyText': '1', 'height': 10, 'width': 14, 'weight': 0.26, 'length': 20, 'priceFactor': 1, 'calculatedPrice': False, 'definitionPriceScope': 'SKU_MARKETPLACE', 'hasVariations': False, 'isProductActive': True, 'skus': [{'id': 2223197, 'title': 'Amend Máscara Cachos 250g', 'partnerId': 'AM0044', 'ean': '7896852617984', 'price': 26.18, 'amount': 53, 'additionalTime': 0, 'stockLocalId': 10244}], 'allowAutomaticSkuMarketplaceCreation': True}, {'id': 3360981, 'title': 'TIGI Bed Head Leave In After Party 50ml', 'description': '<p>teste</p>', 'category': {'id': 893146, 'name': 'Tratamento de Cabelo', 'path': 'Beleza e Cuidado com Cabelo/Tratamento de Cabelo'}, 'origin': {'id': 0, 'description': 'NATIONAL'}, 'model': 'string', 'gender': 'MALE', 'warrantyTime': 0, 'warrantyText': 'string', 'height': 0, 'width': 0, 'weight': 0, 'length': 0, 'priceFactor': 1, 'calculatedPrice': False, 'definitionPriceScope': 'SKU_MARKETPLACE', 'hasVariations': False, 'isProductActive': True, 'characteristics': [{'index': 0, 'name': 'string', 'value': 'string'}], 'skus': [{'id': 2224790, 'title': 'TIGI Bed Head Leave In After Party 50ml', 'partnerId': 'TG0005', 'ean': '615908431438', 'price': 31.96, 'amount': 9, 'additionalTime': 0, 'stockLocalId': 10244}], 'allowAutomaticSkuMarketplaceCreation': True}, {'id': 3360982, 'title': 'Joico Hydra Splash Hydrating - Replenishing 100ml (Leave-in) - Smart Release', 'description': '<p>teste</p>', 'category': {'id': 893146, 'name': 'Tratamento de Cabelo', 'path': 'Beleza e Cuidado com Cabelo/Tratamento de Cabelo'}, 'origin': {'id': 0, 'description': 'NATIONAL'}, 'model': 'Hydra Splash Hydrating', 'warrantyTime': 0, 'warrantyText': '0', 'height': 17.4, 'width': 3.3, 'weight': 0.25, 'length': 3.2, 'priceFactor': 1, 'calculatedPrice': False, 'definitionPriceScope': 'SKU_MARKETPLACE', 'hasVariations': False, 'isProductActive': True, 'skus': [{'id': 2224791, 'title': 'Joico Hydra Splash Hydrating - Replenishing 100ml (Leave-in) - Smart Release', 'partnerId': 'JC053', 'ean': '074469513463', 'price': 96.33, 'amount': 29, 'additionalTime': 0, 'stockLocalId': 10244}], 'allowAutomaticSkuMarketplaceCreation': True}, {'id': 3360983, 'title': 'Joico Moisture Recovery- Treatment Balme 250ml (Masc. Bisnaga) - Smart Release', 'description': '<p>teste</p>', 'category': {'id': 893146, 'name': 'Tratamento de Cabelo', 'path': 'Beleza e Cuidado com Cabelo/Tratamento de Cabelo'}, 'origin': {'id': 0, 'description': 'NATIONAL'}, 'model': 'Moisture Recovery', 'gender': 'UNISSEX', 'warrantyTime': 0, 'warrantyText': '0', 'height': 21.5, 'width': 7.8, 'weight': 0.3, 'length': 5, 'priceFactor': 1, 'calculatedPrice': False, 'definitionPriceScope': 'SKU_MARKETPLACE', 'hasVariations': False, 'isProductActive': True, 'skus': [{'id': 2224792, 'title': 'Joico Moisture Recovery- Treatment Balme 250ml (Masc. Bisnaga) - Smart Release', 'partnerId': 'JC046', 'ean': '074469513982', 'price': 78.88, 'amount': 211, 'additionalTime': 0, 'stockLocalId': 10244}], 'allowAutomaticSkuMarketplaceCreation': True}, {'id': 3360984, 'title': 'Haskell Condicionador Encorpa Cabelo 500ml', 'description': '<p>teste</p>', 'category': {'id': 893390, 'name': 'Condicionador', 'path': 'Beleza e Cuidado com Cabelo/Condicionador'}, 'origin': {'id': 0, 'description': 'NATIONAL'}, 'model': 'Encorpa', 'gender': 'UNISSEX', 'warrantyTime': 0, 'warrantyText': '0', 'height': 11, 'width': 18, 'weight': 0.5, 'length': 6, 'priceFactor': 1, 'calculatedPrice': False, 'definitionPriceScope': 'SKU_MARKETPLACE', 'hasVariations': False, 'isProductActive': True, 'skus': [{'id': 2224793, 'title': 'Haskell Condicionador Encorpa Cabelo 500ml', 'partnerId': 'HA0030', 'ean': '7898610373439', 'price': 25.49, 'amount': 7, 'additionalTime': 0, 'stockLocalId': 10244}], 'allowAutomaticSkuMarketplaceCreation': True}, {'id': 3360990, 'title': 'Haskell Mascara Hidranutre 250gr', 'description': '<p>teste</p>', 'category': {'id': 893146, 'name': 'Tratamento de Cabelo', 'path': 'Beleza e Cuidado com Cabelo/Tratamento de Cabelo'}, 'origin': {'id': 0, 'description': 'NATIONAL'}, 'model': 'Hidranutre', 'gender': 'UNISSEX', 'warrantyTime': 0, 'warrantyText': '0', 'height': 7, 'width': 18, 'weight': 0.25, 'length': 12, 'priceFactor': 1, 'calculatedPrice': False, 'definitionPriceScope': 'SKU_MARKETPLACE', 'hasVariations': False, 'isProductActive': True, 'skus': [{'id': 2224799, 'title': 'Haskell Mascara Hidranutre 250gr', 'partnerId': 'HA0042', 'ean': '7898610376089', 'price': 20.09, 'amount': 1, 'additionalTime': 0, 'stockLocalId': 10244}], 'allowAutomaticSkuMarketplaceCreation': True}, {'id': 3360991, 'title': 'Haskell Polpa em Creme Murumuru 150gr', 'description': '<p>teste</p>', 'category': {'id': 893391, 'name': 'Creme de pentear', 'path': 'Beleza e Cuidado com Cabelo/Creme de pentear'}, 'origin': {'id': 0, 'description': 'NATIONAL'}, 'model': 'Murumuru', 'gender': 'UNISSEX', 'warrantyTime': 0, 'warrantyText': '0', 'height': 6, 'width': 11, 'weight': 0.15, 'length': 18, 'priceFactor': 1, 'calculatedPrice': False, 'definitionPriceScope': 'SKU_MARKETPLACE', 'hasVariations': False, 'isProductActive': True, 'skus': [{'id': 2224800, 'title': 'Haskell Polpa em Creme Murumuru 150gr', 'partnerId': 'HA0068', 'ean': '7898610373040', 'price': 19.37, 'amount': 27, 'additionalTime': 0, 'stockLocalId': 10244}], 'allowAutomaticSkuMarketplaceCreation': True}, {'id': 3360992, 'title': 'Haskell Condicionador Cavalo Forte 1l', 'description': '<p>teste</p>', 'category': {'id': 893390, 'name': 'Condicionador', 'path': 'Beleza e Cuidado com Cabelo/Condicionador'}, 'origin': {'id': 0, 'description': 'NATIONAL'}, 'model': 'Cavalo Forte', 'gender': 'UNISSEX', 'warrantyTime': 0, 'warrantyText': '0', 'height': 10, 'width': 15, 'weight': 1.01, 'length': 24, 'priceFactor': 1, 'calculatedPrice': False, 'definitionPriceScope': 'SKU_MARKETPLACE', 'hasVariations': False, 'isProductActive': True, 'skus': [{'id': 2224801, 'title': 'Haskell Condicionador Cavalo Forte 1l', 'partnerId': 'HA0011', 'ean': '7898610372364', 'price': 42.19, 'amount': 265, 'additionalTime': 0, 'stockLocalId': 10244}], 'allowAutomaticSkuMarketplaceCreation': True}, {'id': 3360994, 'title': 'Haskell Condicionador Murumuru 500ml', 'description': '<p>teste</p>', 'category': {'id': 893390, 'name': 'Condicionador', 'path': 'Beleza e Cuidado com Cabelo/Condicionador'}, 'origin': {'id': 0, 'description': 'NATIONAL'}, 'model': 'Murumuru', 'gender': 'UNISSEX', 'warrantyTime': 0, 'warrantyText': '0', 'height': 8, 'width': 14, 'weight': 0.52, 'length': 20, 'priceFactor': 1, 'calculatedPrice': False, 'definitionPriceScope': 'SKU_MARKETPLACE', 'hasVariations': False, 'isProductActive': True, 'skus': [{'id': 2224803, 'title': 'Haskell Condicionador Murumuru 500ml', 'partnerId': 'HA0065', 'ean': '7898610373019', 'price': 23.33, 'amount': 21, 'additionalTime': 0, 'stockLocalId': 10244}], 'allowAutomaticSkuMarketplaceCreation': True}, {'id': 3361038, 'title': 'Haskell Shampoo Murumuru 500ml', 'description': '<p>teste</p>', 'category': {'id': 893389, 'name': 'Shampoo', 'path': 'Beleza e Cuidado com Cabelo/Shampoo'}, 'origin': {'id': 0, 'description': 'NATIONAL'}, 'model': 'Murumuru', 'gender': 'UNISSEX', 'warrantyTime': 0, 'warrantyText': '0', 'height': 7, 'width': 18.5, 'weight': 0.52, 'length': 12, 'priceFactor': 1, 'calculatedPrice': False, 'definitionPriceScope': 'SKU_MARKETPLACE', 'hasVariations': False, 'isProductActive': True, 'skus': [{'id': 2224806, 'title': 'Haskell Shampoo Murumuru 500ml', 'partnerId': 'HA0063', 'ean': '7898610372999', 'price': 25.56, 'amount': 49, 'additionalTime': 0, 'stockLocalId': 10244}], 'allowAutomaticSkuMarketplaceCreation': True}], 'page': {'size': 13, 'totalElements': 13, 'totalPages': 1, 'number': 0}}\n"
     ]
    }
   ],
   "source": [
    "all_products = am.get_all_products(quantity)"
   ]
  },
  {
   "cell_type": "code",
   "execution_count": 39,
   "metadata": {},
   "outputs": [
    {
     "name": "stdout",
     "output_type": "stream",
     "text": [
      "{\"id\":3349911,\"title\":\"Moroccanoil Tratamento Óleo Original 25ml\",\"category\":{\"id\":893146,\"name\":\"Tratamento de Cabelo\",\"path\":\"Beleza e Cuidado com Cabelo/Tratamento de Cabelo\"},\"origin\":{\"id\":0,\"description\":\"NATIONAL\"},\"model\":\"Original\",\"gender\":\"UNISSEX\",\"warrantyTime\":0,\"warrantyText\":\"0\",\"priceFactor\":5.0,\"calculatedPrice\":false,\"definitionPriceScope\":\"SKU_MARKETPLACE\",\"hasVariations\":false,\"isProductActive\":true,\"skus\":[{\"id\":2223132,\"title\":\"Moroccanoil Tratamento Óleo Original 25ml\",\"partnerId\":\"MO0001\",\"ean\":\"7290011521127\",\"price\":49.9,\"sellPrice\":49.9,\"amount\":163,\"additionalTime\":0,\"stockLocalId\":10244,\"active\":true}],\"allowAutomaticSkuMarketplaceCreation\":true,\"type\":\"SIMPLE\"}\n",
      "{\"id\":3349993,\"title\":\"Amend Leave In Millenar Óleos Egípcios Balm Selante 180g\",\"description\":\"<p>teste</p>\",\"category\":{\"id\":893146,\"name\":\"Tratamento de Cabelo\",\"path\":\"Beleza e Cuidado com Cabelo/Tratamento de Cabelo\"},\"origin\":{\"id\":0,\"description\":\"NATIONAL\"},\"warrantyTime\":0,\"warrantyText\":\"0\",\"height\":6.0,\"width\":11.0,\"weight\":0.19,\"length\":18.0,\"priceFactor\":1.0,\"calculatedPrice\":false,\"definitionPriceScope\":\"SKU_MARKETPLACE\",\"hasVariations\":false,\"isProductActive\":true,\"images\":[{\"id\":2756787,\"index\":1,\"main\":true,\"url\":\"https://s3.sa-east-1.amazonaws.com/images.sox.anymarket.com.br/39959642./1697820284495/original.png\",\"thumbnailUrl\":\"http://s3-sa-east-1.amazonaws.com/images.anymarket.com.br/39959642./12FC615F8F08B1FDBDCA739FDCA311D5/thumbnail.jpg\",\"lowResolutionUrl\":\"http://s3-sa-east-1.amazonaws.com/images.anymarket.com.br/39959642./12FC615F8F08B1FDBDCA739FDCA311D5/low_resolution.jpg\",\"standardUrl\":\"http://s3-sa-east-1.amazonaws.com/images.anymarket.com.br/39959642./12FC615F8F08B1FDBDCA739FDCA311D5/standard_resolution.jpg\",\"originalImage\":\"http://s3-sa-east-1.amazonaws.com/images.anymarket.com.br/39959642./12FC615F8F08B1FDBDCA739FDCA311D5/original_image.jpg\",\"status\":\"PROCESSED\",\"standardWidth\":1000,\"standardHeight\":1000,\"originalWidth\":1000,\"originalHeight\":1000}],\"skus\":[{\"id\":2223173,\"title\":\"Amend Leave In Millenar Óleos Egípcios Balm Selante 180g\",\"partnerId\":\"AM0011\",\"ean\":\"7896852618950\",\"price\":20.56,\"sellPrice\":20.56,\"amount\":25,\"additionalTime\":0,\"stockLocalId\":10244,\"active\":true}],\"allowAutomaticSkuMarketplaceCreation\":true,\"type\":\"SIMPLE\"}\n",
      "{\"id\":3350003,\"title\":\"Amend Leave In Millenar Óleos Indianos Balm Selante 180g\",\"description\":\"<p>teste</p>\",\"category\":{\"id\":893146,\"name\":\"Tratamento de Cabelo\",\"path\":\"Beleza e Cuidado com Cabelo/Tratamento de Cabelo\"},\"origin\":{\"id\":0,\"description\":\"NATIONAL\"},\"model\":\"Óleos indianos\",\"gender\":\"UNISSEX\",\"warrantyTime\":0,\"warrantyText\":\"0\",\"height\":6.0,\"width\":11.0,\"weight\":0.19,\"length\":18.0,\"priceFactor\":1.0,\"calculatedPrice\":false,\"definitionPriceScope\":\"SKU_MARKETPLACE\",\"hasVariations\":false,\"isProductActive\":true,\"images\":[{\"id\":2756788,\"index\":1,\"main\":true,\"url\":\"https://s3.sa-east-1.amazonaws.com/images.sox.anymarket.com.br/39959642./1697821367808/original.png\",\"thumbnailUrl\":\"http://s3-sa-east-1.amazonaws.com/images.anymarket.com.br/39959642./7853AA822D58F288F652EDD7F49686AD/thumbnail.jpg\",\"lowResolutionUrl\":\"http://s3-sa-east-1.amazonaws.com/images.anymarket.com.br/39959642./7853AA822D58F288F652EDD7F49686AD/low_resolution.jpg\",\"standardUrl\":\"http://s3-sa-east-1.amazonaws.com/images.anymarket.com.br/39959642./7853AA822D58F288F652EDD7F49686AD/standard_resolution.jpg\",\"originalImage\":\"http://s3-sa-east-1.amazonaws.com/images.anymarket.com.br/39959642./7853AA822D58F288F652EDD7F49686AD/original_image.jpg\",\"status\":\"PROCESSED\",\"standardWidth\":1000,\"standardHeight\":1000,\"originalWidth\":1000,\"originalHeight\":1000}],\"skus\":[{\"id\":2223183,\"title\":\"Amend Leave In Millenar Óleos Indianos Balm Selante 180g\",\"partnerId\":\"AM0049\",\"ean\":\"7896852618998\",\"price\":20.56,\"sellPrice\":20.56,\"amount\":37,\"additionalTime\":0,\"stockLocalId\":10244,\"active\":true}],\"allowAutomaticSkuMarketplaceCreation\":true,\"type\":\"SIMPLE\"}\n",
      "{\"id\":3350017,\"title\":\"Amend Máscara Cachos 250g\",\"description\":\"<p>teste</p>\",\"category\":{\"id\":893146,\"name\":\"Tratamento de Cabelo\",\"path\":\"Beleza e Cuidado com Cabelo/Tratamento de Cabelo\"},\"origin\":{\"id\":0,\"description\":\"NATIONAL\"},\"model\":\"Cachos\",\"warrantyTime\":1,\"warrantyText\":\"1\",\"height\":10.0,\"width\":14.0,\"weight\":0.26,\"length\":20.0,\"priceFactor\":1.0,\"calculatedPrice\":false,\"definitionPriceScope\":\"SKU_MARKETPLACE\",\"hasVariations\":false,\"isProductActive\":true,\"skus\":[{\"id\":2223197,\"title\":\"Amend Máscara Cachos 250g\",\"partnerId\":\"AM0044\",\"ean\":\"7896852617984\",\"price\":26.18,\"sellPrice\":26.18,\"amount\":53,\"additionalTime\":0,\"stockLocalId\":10244,\"active\":true}],\"allowAutomaticSkuMarketplaceCreation\":true,\"type\":\"SIMPLE\"}\n",
      "{\"id\":3360981,\"title\":\"TIGI Bed Head Leave In After Party 50ml\",\"description\":\"<p>teste</p>\",\"category\":{\"id\":893146,\"name\":\"Tratamento de Cabelo\",\"path\":\"Beleza e Cuidado com Cabelo/Tratamento de Cabelo\"},\"origin\":{\"id\":0,\"description\":\"NATIONAL\"},\"model\":\"string\",\"gender\":\"MALE\",\"warrantyTime\":0,\"warrantyText\":\"string\",\"height\":0.0,\"width\":0.0,\"weight\":0.0,\"length\":0.0,\"priceFactor\":1.0,\"calculatedPrice\":false,\"definitionPriceScope\":\"SKU_MARKETPLACE\",\"hasVariations\":false,\"isProductActive\":true,\"characteristics\":[{\"index\":0,\"name\":\"string\",\"value\":\"string\"}],\"skus\":[{\"id\":2224790,\"title\":\"TIGI Bed Head Leave In After Party 50ml\",\"partnerId\":\"TG0005\",\"ean\":\"615908431438\",\"price\":31.96,\"sellPrice\":31.96,\"amount\":9,\"additionalTime\":0,\"stockLocalId\":10244,\"active\":true}],\"allowAutomaticSkuMarketplaceCreation\":true,\"type\":\"SIMPLE\"}\n",
      "{\"id\":3360982,\"title\":\"Joico Hydra Splash Hydrating - Replenishing 100ml (Leave-in) - Smart Release\",\"description\":\"<p>teste</p>\",\"category\":{\"id\":893146,\"name\":\"Tratamento de Cabelo\",\"path\":\"Beleza e Cuidado com Cabelo/Tratamento de Cabelo\"},\"origin\":{\"id\":0,\"description\":\"NATIONAL\"},\"model\":\"Hydra Splash Hydrating\",\"warrantyTime\":0,\"warrantyText\":\"0\",\"height\":17.4,\"width\":3.3,\"weight\":0.25,\"length\":3.2,\"priceFactor\":1.0,\"calculatedPrice\":false,\"definitionPriceScope\":\"SKU_MARKETPLACE\",\"hasVariations\":false,\"isProductActive\":true,\"skus\":[{\"id\":2224791,\"title\":\"Joico Hydra Splash Hydrating - Replenishing 100ml (Leave-in) - Smart Release\",\"partnerId\":\"JC053\",\"ean\":\"074469513463\",\"price\":96.33,\"sellPrice\":96.33,\"amount\":29,\"additionalTime\":0,\"stockLocalId\":10244,\"active\":true}],\"allowAutomaticSkuMarketplaceCreation\":true,\"type\":\"SIMPLE\"}\n",
      "{\"id\":3360983,\"title\":\"Joico Moisture Recovery- Treatment Balme 250ml (Masc. Bisnaga) - Smart Release\",\"description\":\"<p>teste</p>\",\"category\":{\"id\":893146,\"name\":\"Tratamento de Cabelo\",\"path\":\"Beleza e Cuidado com Cabelo/Tratamento de Cabelo\"},\"origin\":{\"id\":0,\"description\":\"NATIONAL\"},\"model\":\"Moisture Recovery\",\"gender\":\"UNISSEX\",\"warrantyTime\":0,\"warrantyText\":\"0\",\"height\":21.5,\"width\":7.8,\"weight\":0.3,\"length\":5.0,\"priceFactor\":1.0,\"calculatedPrice\":false,\"definitionPriceScope\":\"SKU_MARKETPLACE\",\"hasVariations\":false,\"isProductActive\":true,\"skus\":[{\"id\":2224792,\"title\":\"Joico Moisture Recovery- Treatment Balme 250ml (Masc. Bisnaga) - Smart Release\",\"partnerId\":\"JC046\",\"ean\":\"074469513982\",\"price\":78.88,\"sellPrice\":78.88,\"amount\":211,\"additionalTime\":0,\"stockLocalId\":10244,\"active\":true}],\"allowAutomaticSkuMarketplaceCreation\":true,\"type\":\"SIMPLE\"}\n",
      "{\"id\":3360984,\"title\":\"Haskell Condicionador Encorpa Cabelo 500ml\",\"description\":\"<p>teste</p>\",\"category\":{\"id\":893390,\"name\":\"Condicionador\",\"path\":\"Beleza e Cuidado com Cabelo/Condicionador\"},\"origin\":{\"id\":0,\"description\":\"NATIONAL\"},\"model\":\"Encorpa\",\"gender\":\"UNISSEX\",\"warrantyTime\":0,\"warrantyText\":\"0\",\"height\":11.0,\"width\":18.0,\"weight\":0.5,\"length\":6.0,\"priceFactor\":1.0,\"calculatedPrice\":false,\"definitionPriceScope\":\"SKU_MARKETPLACE\",\"hasVariations\":false,\"isProductActive\":true,\"skus\":[{\"id\":2224793,\"title\":\"Haskell Condicionador Encorpa Cabelo 500ml\",\"partnerId\":\"HA0030\",\"ean\":\"7898610373439\",\"price\":25.49,\"sellPrice\":25.49,\"amount\":7,\"additionalTime\":0,\"stockLocalId\":10244,\"active\":true}],\"allowAutomaticSkuMarketplaceCreation\":true,\"type\":\"SIMPLE\"}\n",
      "{\"id\":3360990,\"title\":\"Haskell Mascara Hidranutre 250gr\",\"description\":\"<p>teste</p>\",\"category\":{\"id\":893146,\"name\":\"Tratamento de Cabelo\",\"path\":\"Beleza e Cuidado com Cabelo/Tratamento de Cabelo\"},\"origin\":{\"id\":0,\"description\":\"NATIONAL\"},\"model\":\"Hidranutre\",\"gender\":\"UNISSEX\",\"warrantyTime\":0,\"warrantyText\":\"0\",\"height\":7.0,\"width\":18.0,\"weight\":0.25,\"length\":12.0,\"priceFactor\":1.0,\"calculatedPrice\":false,\"definitionPriceScope\":\"SKU_MARKETPLACE\",\"hasVariations\":false,\"isProductActive\":true,\"skus\":[{\"id\":2224799,\"title\":\"Haskell Mascara Hidranutre 250gr\",\"partnerId\":\"HA0042\",\"ean\":\"7898610376089\",\"price\":20.09,\"sellPrice\":20.09,\"amount\":1,\"additionalTime\":0,\"stockLocalId\":10244,\"active\":true}],\"allowAutomaticSkuMarketplaceCreation\":true,\"type\":\"SIMPLE\"}\n",
      "{\"id\":3360991,\"title\":\"Haskell Polpa em Creme Murumuru 150gr\",\"description\":\"<p>teste</p>\",\"category\":{\"id\":893391,\"name\":\"Creme de pentear\",\"path\":\"Beleza e Cuidado com Cabelo/Creme de pentear\"},\"origin\":{\"id\":0,\"description\":\"NATIONAL\"},\"model\":\"Murumuru\",\"gender\":\"UNISSEX\",\"warrantyTime\":0,\"warrantyText\":\"0\",\"height\":6.0,\"width\":11.0,\"weight\":0.15,\"length\":18.0,\"priceFactor\":1.0,\"calculatedPrice\":false,\"definitionPriceScope\":\"SKU_MARKETPLACE\",\"hasVariations\":false,\"isProductActive\":true,\"skus\":[{\"id\":2224800,\"title\":\"Haskell Polpa em Creme Murumuru 150gr\",\"partnerId\":\"HA0068\",\"ean\":\"7898610373040\",\"price\":19.37,\"sellPrice\":19.37,\"amount\":27,\"additionalTime\":0,\"stockLocalId\":10244,\"active\":true}],\"allowAutomaticSkuMarketplaceCreation\":true,\"type\":\"SIMPLE\"}\n",
      "{\"id\":3360992,\"title\":\"Haskell Condicionador Cavalo Forte 1l\",\"description\":\"<p>teste</p>\",\"category\":{\"id\":893390,\"name\":\"Condicionador\",\"path\":\"Beleza e Cuidado com Cabelo/Condicionador\"},\"origin\":{\"id\":0,\"description\":\"NATIONAL\"},\"model\":\"Cavalo Forte\",\"gender\":\"UNISSEX\",\"warrantyTime\":0,\"warrantyText\":\"0\",\"height\":10.0,\"width\":15.0,\"weight\":1.01,\"length\":24.0,\"priceFactor\":1.0,\"calculatedPrice\":false,\"definitionPriceScope\":\"SKU_MARKETPLACE\",\"hasVariations\":false,\"isProductActive\":true,\"skus\":[{\"id\":2224801,\"title\":\"Haskell Condicionador Cavalo Forte 1l\",\"partnerId\":\"HA0011\",\"ean\":\"7898610372364\",\"price\":42.19,\"sellPrice\":42.19,\"amount\":265,\"additionalTime\":0,\"stockLocalId\":10244,\"active\":true}],\"allowAutomaticSkuMarketplaceCreation\":true,\"type\":\"SIMPLE\"}\n",
      "{\"id\":3360994,\"title\":\"Haskell Condicionador Murumuru 500ml\",\"description\":\"<p>teste</p>\",\"category\":{\"id\":893390,\"name\":\"Condicionador\",\"path\":\"Beleza e Cuidado com Cabelo/Condicionador\"},\"origin\":{\"id\":0,\"description\":\"NATIONAL\"},\"model\":\"Murumuru\",\"gender\":\"UNISSEX\",\"warrantyTime\":0,\"warrantyText\":\"0\",\"height\":8.0,\"width\":14.0,\"weight\":0.52,\"length\":20.0,\"priceFactor\":1.0,\"calculatedPrice\":false,\"definitionPriceScope\":\"SKU_MARKETPLACE\",\"hasVariations\":false,\"isProductActive\":true,\"skus\":[{\"id\":2224803,\"title\":\"Haskell Condicionador Murumuru 500ml\",\"partnerId\":\"HA0065\",\"ean\":\"7898610373019\",\"price\":23.33,\"sellPrice\":23.33,\"amount\":21,\"additionalTime\":0,\"stockLocalId\":10244,\"active\":true}],\"allowAutomaticSkuMarketplaceCreation\":true,\"type\":\"SIMPLE\"}\n",
      "{\"id\":3361038,\"title\":\"Haskell Shampoo Murumuru 500ml\",\"description\":\"<p>teste</p>\",\"category\":{\"id\":893389,\"name\":\"Shampoo\",\"path\":\"Beleza e Cuidado com Cabelo/Shampoo\"},\"origin\":{\"id\":0,\"description\":\"NATIONAL\"},\"model\":\"Murumuru\",\"gender\":\"UNISSEX\",\"warrantyTime\":0,\"warrantyText\":\"0\",\"height\":7.0,\"width\":18.5,\"weight\":0.52,\"length\":12.0,\"priceFactor\":1.0,\"calculatedPrice\":false,\"definitionPriceScope\":\"SKU_MARKETPLACE\",\"hasVariations\":false,\"isProductActive\":true,\"skus\":[{\"id\":2224806,\"title\":\"Haskell Shampoo Murumuru 500ml\",\"partnerId\":\"HA0063\",\"ean\":\"7898610372999\",\"price\":25.56,\"sellPrice\":25.56,\"amount\":49,\"additionalTime\":0,\"stockLocalId\":10244,\"active\":true}],\"allowAutomaticSkuMarketplaceCreation\":true,\"type\":\"SIMPLE\"}\n"
     ]
    }
   ],
   "source": [
    "change = am.change_data_patch(all_products[1])"
   ]
  },
  {
   "cell_type": "code",
   "execution_count": 40,
   "metadata": {},
   "outputs": [
    {
     "name": "stdout",
     "output_type": "stream",
     "text": [
      "Index(['id', 'accountName', 'idAccount', 'marketPlace', 'index',\n",
      "       'publicationStatus', 'transmissionStatus', 'marketplaceStatus', 'price',\n",
      "       'priceFactor', 'discountPrice', 'skuInMarketplace', 'isCatalog',\n",
      "       'fields.is_main_sku', 'fields.DISCOUNT_VALUE', 'fields.title',\n",
      "       'fields.DISCOUNT_TYPE', 'fields.HAS_DISCOUNT', 'fields.priceFactor'],\n",
      "      dtype='object')\n"
     ]
    }
   ],
   "source": [
    "query = am.query_all_products(all_products[0])\n"
   ]
  },
  {
   "cell_type": "code",
   "execution_count": 41,
   "metadata": {},
   "outputs": [
    {
     "data": {
      "text/html": [
       "<div>\n",
       "<style scoped>\n",
       "    .dataframe tbody tr th:only-of-type {\n",
       "        vertical-align: middle;\n",
       "    }\n",
       "\n",
       "    .dataframe tbody tr th {\n",
       "        vertical-align: top;\n",
       "    }\n",
       "\n",
       "    .dataframe thead th {\n",
       "        text-align: right;\n",
       "    }\n",
       "</style>\n",
       "<table border=\"1\" class=\"dataframe\">\n",
       "  <thead>\n",
       "    <tr style=\"text-align: right;\">\n",
       "      <th></th>\n",
       "      <th>sku (*)</th>\n",
       "      <th>id</th>\n",
       "      <th>marketPlace</th>\n",
       "      <th>publicationStatus</th>\n",
       "      <th>marketplaceStatus</th>\n",
       "      <th>price</th>\n",
       "      <th>fields.title</th>\n",
       "    </tr>\n",
       "  </thead>\n",
       "  <tbody>\n",
       "    <tr>\n",
       "      <th>0</th>\n",
       "      <td>AM0011</td>\n",
       "      <td>81315</td>\n",
       "      <td>ECOMMERCE</td>\n",
       "      <td>ACTIVE</td>\n",
       "      <td>Ativo Dessincronizado</td>\n",
       "      <td>50</td>\n",
       "      <td>Amend Leave In Millenar Óleos Egípcios Balm Se...</td>\n",
       "    </tr>\n",
       "    <tr>\n",
       "      <th>1</th>\n",
       "      <td>AM0049</td>\n",
       "      <td>81316</td>\n",
       "      <td>ECOMMERCE</td>\n",
       "      <td>ACTIVE</td>\n",
       "      <td>Ativo Dessincronizado</td>\n",
       "      <td>50</td>\n",
       "      <td>Amend Leave In Millenar Óleos Indianos Balm Se...</td>\n",
       "    </tr>\n",
       "  </tbody>\n",
       "</table>\n",
       "</div>"
      ],
      "text/plain": [
       "  sku (*)     id marketPlace publicationStatus      marketplaceStatus  price  \\\n",
       "0  AM0011  81315   ECOMMERCE            ACTIVE  Ativo Dessincronizado     50   \n",
       "1  AM0049  81316   ECOMMERCE            ACTIVE  Ativo Dessincronizado     50   \n",
       "\n",
       "                                        fields.title  \n",
       "0  Amend Leave In Millenar Óleos Egípcios Balm Se...  \n",
       "1  Amend Leave In Millenar Óleos Indianos Balm Se...  "
      ]
     },
     "execution_count": 41,
     "metadata": {},
     "output_type": "execute_result"
    }
   ],
   "source": [
    "query"
   ]
  },
  {
   "cell_type": "code",
   "execution_count": 42,
   "metadata": {},
   "outputs": [
    {
     "name": "stdout",
     "output_type": "stream",
     "text": [
      "  sku (*)     id marketPlace publicationStatus      marketplaceStatus  price  \\\n",
      "0  AM0011  81315   ECOMMERCE            ACTIVE  Ativo Dessincronizado     50   \n",
      "1  AM0049  81316   ECOMMERCE            ACTIVE  Ativo Dessincronizado     50   \n",
      "\n",
      "                                        fields.title  \n",
      "0  Amend Leave In Millenar Óleos Egípcios Balm Se...  \n",
      "1  Amend Leave In Millenar Óleos Indianos Balm Se...  \n"
     ]
    }
   ],
   "source": []
  },
  {
   "cell_type": "code",
   "execution_count": 43,
   "metadata": {},
   "outputs": [
    {
     "name": "stdout",
     "output_type": "stream",
     "text": [
      "  sku (*)     id marketPlace publicationStatus      marketplaceStatus  price  \\\n",
      "0  AM0011  81315   ECOMMERCE            ACTIVE  Ativo Dessincronizado     50   \n",
      "1  AM0049  81316   ECOMMERCE            ACTIVE  Ativo Dessincronizado     50   \n",
      "\n",
      "                                        fields.title  \n",
      "0  Amend Leave In Millenar Óleos Egípcios Balm Se...  \n",
      "1  Amend Leave In Millenar Óleos Indianos Balm Se...  \n",
      "{\"code\":\"422\",\"message\":\"Método PUT não suportado para path solicitado. Verifique a documentação para maiores detalhes.\"}\n"
     ]
    },
    {
     "name": "stdout",
     "output_type": "stream",
     "text": [
      "[Errno 104] Connection reset by peer\n"
     ]
    }
   ],
   "source": [
    "change_price = am.change_price('ECOMMERCE', query)"
   ]
  },
  {
   "cell_type": "code",
   "execution_count": 56,
   "metadata": {},
   "outputs": [
    {
     "name": "stdout",
     "output_type": "stream",
     "text": [
      "{\"code\":\"422\",\"message\":\"Método PUT não suportado para path solicitado. Verifique a documentação para maiores detalhes.\"}\n"
     ]
    }
   ],
   "source": [
    "conn = http.client.HTTPConnection(\"sandbox-api.anymarket.com.br\")\n",
    "\n",
    "payload = \"[\\n  {\\n    \\\"id\\\": 81315,\\n    \\\"price\\\": 110,\\n    \\\"discountPrice\\\": 101\\n  }\\n]\"\n",
    "\n",
    "headers = {\n",
    "    'Content-Type': \"application/json\",\n",
    "    'gumgaToken': \"32293584L39959642E1789758617689C169644661768900O891.I\"\n",
    "}\n",
    "\n",
    "conn.request(\"PUT\", \"/v2/skus/marketplaces\", payload, headers)\n",
    "\n",
    "res = conn.getresponse()\n",
    "data = res.read()\n",
    "\n",
    "print(data.decode(\"utf-8\"))"
   ]
  },
  {
   "cell_type": "code",
   "execution_count": 55,
   "metadata": {},
   "outputs": [
    {
     "name": "stdout",
     "output_type": "stream",
     "text": [
      "[]\n"
     ]
    }
   ],
   "source": [
    "import http.client\n",
    "\n",
    "conn = http.client.HTTPConnection(\"sandbox-api.anymarket.com.br\")\n",
    "\n",
    "payload = \"[\\n  {\\n    \\\"id\\\": 81315,\\n    \\\"price\\\": 120,\\n    \\\"discountPrice\\\": 110\\n  }\\n]\"\n",
    "\n",
    "headers = {\n",
    "    'Content-Type': \"application/json\",\n",
    "    'gumgaToken': \"32293584L39959642E1789758617689C169644661768900O891.I\"\n",
    "    }\n",
    "\n",
    "conn.request(\"PUT\", \"/v2/skus/marketplaces/prices\", payload, headers)\n",
    "\n",
    "res = conn.getresponse()\n",
    "data = res.read()\n",
    "\n",
    "print(data.decode(\"utf-8\"))"
   ]
  },
  {
   "cell_type": "code",
   "execution_count": 45,
   "metadata": {},
   "outputs": [],
   "source": [
    "conn = http.client.HTTPConnection(\"sandbox-api.anymarket.com.br\")\n",
    "\n",
    "headers = {\n",
    "    'Content-Type': \"application/json\",\n",
    "    'gumgaToken': \"32293584L39959642E1789758617689C169644661768900O891.I\"\n",
    "}\n",
    "\n",
    "conn.request(\"GET\", f\"/v2/skus/marketplaces?partnerID=AM0011\", headers=headers)\n",
    "\n",
    "res = conn.getresponse()\n",
    "data = res.read()\n",
    "json_data = json.loads(data.decode(\"utf-8\"))\n"
   ]
  },
  {
   "cell_type": "code",
   "execution_count": 46,
   "metadata": {},
   "outputs": [
    {
     "data": {
      "text/plain": [
       "[{'id': 81315,\n",
       "  'accountName': 'ECOMMERCE',\n",
       "  'idAccount': 7800,\n",
       "  'marketPlace': 'ECOMMERCE',\n",
       "  'index': 1,\n",
       "  'publicationStatus': 'ACTIVE',\n",
       "  'transmissionStatus': 'OK',\n",
       "  'marketplaceStatus': 'Ativo Dessincronizado',\n",
       "  'price': 50,\n",
       "  'priceFactor': 2.431907,\n",
       "  'discountPrice': 40,\n",
       "  'skuInMarketplace': 'AM0011',\n",
       "  'fields': {'is_main_sku': 'true',\n",
       "   'DISCOUNT_VALUE': '20',\n",
       "   'title': 'Amend Leave In Millenar Óleos Egípcios Balm Selante 180g',\n",
       "   'DISCOUNT_TYPE': 'PERCENT',\n",
       "   'HAS_DISCOUNT': 'true',\n",
       "   'priceFactor': '0'},\n",
       "  'isCatalog': False}]"
      ]
     },
     "execution_count": 46,
     "metadata": {},
     "output_type": "execute_result"
    }
   ],
   "source": [
    "json_data"
   ]
  }
 ],
 "metadata": {
  "kernelspec": {
   "display_name": "kami-princing-hADSgdW2-py3.11",
   "language": "python",
   "name": "python3"
  },
  "language_info": {
   "codemirror_mode": {
    "name": "ipython",
    "version": 3
   },
   "file_extension": ".py",
   "mimetype": "text/x-python",
   "name": "python",
   "nbconvert_exporter": "python",
   "pygments_lexer": "ipython3",
   "version": "3.11.2"
  },
  "orig_nbformat": 4
 },
 "nbformat": 4,
 "nbformat_minor": 2
}
